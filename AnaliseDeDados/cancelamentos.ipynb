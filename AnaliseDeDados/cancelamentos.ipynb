import pandas
import plotly.express as px

tabela = pandas.read_csv("cancelamentos.csv")
