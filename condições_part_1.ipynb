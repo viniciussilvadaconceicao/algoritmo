{
  "nbformat": 4,
  "nbformat_minor": 0,
  "metadata": {
    "colab": {
      "provenance": [],
      "authorship_tag": "ABX9TyNnEEqwahBgahc/IZnJafh0",
      "include_colab_link": true
    },
    "kernelspec": {
      "name": "python3",
      "display_name": "Python 3"
    },
    "language_info": {
      "name": "python"
    }
  },
  "cells": [
    {
      "cell_type": "markdown",
      "metadata": {
        "id": "view-in-github",
        "colab_type": "text"
      },
      "source": [
        "<a href=\"https://colab.research.google.com/github/viniciussilvadaconceicao/algoritmo/blob/main/condi%C3%A7%C3%B5es_part_1.ipynb\" target=\"_parent\"><img src=\"https://colab.research.google.com/assets/colab-badge.svg\" alt=\"Open In Colab\"/></a>"
      ]
    },
    {
      "cell_type": "code",
      "execution_count": 20,
      "metadata": {
        "id": "EsH7GUAtN-XQ",
        "colab": {
          "base_uri": "https://localhost:8080/",
          "height": 110
        },
        "outputId": "2c31a9bb-4183-40e9-fb2c-c5f140048e68"
      },
      "outputs": [
        {
          "output_type": "error",
          "ename": "SyntaxError",
          "evalue": "invalid syntax (<ipython-input-20-1090e38da0b5>, line 3)",
          "traceback": [
            "\u001b[0;36m  File \u001b[0;32m\"<ipython-input-20-1090e38da0b5>\"\u001b[0;36m, line \u001b[0;32m3\u001b[0m\n\u001b[0;31m    bloco True\u001b[0m\n\u001b[0m          ^\u001b[0m\n\u001b[0;31mSyntaxError\u001b[0m\u001b[0;31m:\u001b[0m invalid syntax\n"
          ]
        }
      ],
      "source": [
        "#condição\n",
        "#if carro.esquerda():\n",
        "    bloco True\n",
        "#else:\n",
        "    bloco False\n"
      ]
    },
    {
      "cell_type": "code",
      "source": [
        "#if(significa se)\n",
        "#else(significa senão)\n",
        "tempo = int(input('quantos anos tem seu ano?'))\n",
        "if tempo<=3:\n",
        "  print('carro novo')\n",
        "else:\n",
        "  print('carro velho')\n",
        "print('-- FIM--')"
      ],
      "metadata": {
        "colab": {
          "base_uri": "https://localhost:8080/"
        },
        "id": "m6GI6ScEP3c9",
        "outputId": "ce2d3457-8b7e-464a-d2b7-293387a5f7ba"
      },
      "execution_count": null,
      "outputs": [
        {
          "output_type": "stream",
          "name": "stdout",
          "text": [
            "quantos anos tem seu ano? 3\n",
            "carro novo\n",
            "-- FIM--\n"
          ]
        }
      ]
    },
    {
      "cell_type": "code",
      "source": [
        "tempo = int(input('quantos anos tem seu carro?'))\n",
        "print('carro novo'if tempo <=3 else'carro velho')\n",
        "print('--FIM--')"
      ],
      "metadata": {
        "colab": {
          "base_uri": "https://localhost:8080/"
        },
        "id": "vrVv0TZORNWH",
        "outputId": "b30415de-7a86-4a6b-e871-1b52c412ce15"
      },
      "execution_count": null,
      "outputs": [
        {
          "output_type": "stream",
          "name": "stdout",
          "text": [
            "quantos anos tem seu carro? 3\n",
            "carro novo\n"
          ]
        }
      ]
    },
    {
      "cell_type": "code",
      "source": [
        "nome = str(input('qual seu nome:'))\n",
        "if nome == 'andreza':\n",
        "  print('que nome lindo você tem')\n",
        "print('boa noite {}'.format(nome).upper())"
      ],
      "metadata": {
        "colab": {
          "base_uri": "https://localhost:8080/"
        },
        "id": "CTKwd0pdR3_T",
        "outputId": "44ac9c10-0e14-48ce-d7d8-825543b4363b"
      },
      "execution_count": 2,
      "outputs": [
        {
          "output_type": "stream",
          "name": "stdout",
          "text": [
            "qual seu nome:vinicius \n",
            "BOA NOITE VINICIUS \n"
          ]
        }
      ]
    },
    {
      "cell_type": "code",
      "source": [
        "#escreva um programa que faça o computador 'pensar' em um número inteiro entre 0 e 5 e peça\n",
        "#para o usuario tentar descobrir qual foi o número escolhido pelo computador\n",
        "# o programa deverá escreve na tela se o usuario venceu ou perdeu\n",
        "\n",
        "from random import randint\n",
        "from time import sleep\n",
        "\n",
        "print(30*'-=-')\n",
        "print('pensei em um numero entre 0 e 5')\n",
        "print(30*'-=-')\n",
        "computador = randint(0, 5)# randint pensa em numero e sortei aleatorio\n",
        "jogador = int(input('qual foi o numero que eu pensei:'))#tentativa jogador\n",
        "print('PROCESSANDO...')\n",
        "sleep(3)\n",
        "print('\\n')\n",
        "if jogador == computador :\n",
        "  print('muito bem voce acertou')\n",
        "\n",
        "else:\n",
        "  print('que pena voce errou tente novamente ')"
      ],
      "metadata": {
        "colab": {
          "base_uri": "https://localhost:8080/"
        },
        "id": "CQx9467n9DcJ",
        "outputId": "3da499e2-f692-433e-b204-7cc2f4dabafb"
      },
      "execution_count": null,
      "outputs": [
        {
          "output_type": "stream",
          "name": "stdout",
          "text": [
            "-=--=--=--=--=--=--=--=--=--=--=--=--=--=--=--=--=--=--=--=--=--=--=--=--=--=--=--=--=--=-\n",
            "pensei em um numero entre 0 e 5\n",
            "-=--=--=--=--=--=--=--=--=--=--=--=--=--=--=--=--=--=--=--=--=--=--=--=--=--=--=--=--=--=-\n"
          ]
        }
      ]
    },
    {
      "cell_type": "code",
      "source": [],
      "metadata": {
        "id": "nF_giLVVDGcM"
      },
      "execution_count": null,
      "outputs": []
    }
  ]
}