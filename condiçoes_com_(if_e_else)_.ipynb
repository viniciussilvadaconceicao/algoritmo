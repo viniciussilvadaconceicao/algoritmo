{
  "nbformat": 4,
  "nbformat_minor": 0,
  "metadata": {
    "colab": {
      "provenance": [],
      "authorship_tag": "ABX9TyNxVKpAUCD+ODSTJOF5t8zU",
      "include_colab_link": true
    },
    "kernelspec": {
      "name": "python3",
      "display_name": "Python 3"
    },
    "language_info": {
      "name": "python"
    }
  },
  "cells": [
    {
      "cell_type": "markdown",
      "metadata": {
        "id": "view-in-github",
        "colab_type": "text"
      },
      "source": [
        "<a href=\"https://colab.research.google.com/github/viniciussilvadaconceicao/algoritmo/blob/main/condi%C3%A7oes_com_(if_e_else)_.ipynb\" target=\"_parent\"><img src=\"https://colab.research.google.com/assets/colab-badge.svg\" alt=\"Open In Colab\"/></a>"
      ]
    },
    {
      "cell_type": "code",
      "execution_count": 15,
      "metadata": {
        "colab": {
          "base_uri": "https://localhost:8080/"
        },
        "id": "DkYvGxQVN1MI",
        "outputId": "c5448950-6ae6-44f0-9af8-c77a3bf17515"
      },
      "outputs": [
        {
          "output_type": "stream",
          "name": "stdout",
          "text": [
            "digite um numero:5\n",
            "\n",
            "\n",
            "PROCESSANDO...\n",
            "\n",
            "\n",
            "perdeu... pensei no numero: 1\n"
          ]
        }
      ],
      "source": [
        "#Escreva um programa que faça o computador “pensar” em um número inteiro entre 0 e 5 e\n",
        "#peça para o usuário tentar descobrir qual foi o número escolhido pelo computador.\n",
        "#O programa deverá escrever na tela se o usuário venceu ou perdeu.\n",
        "from random import randint\n",
        "from time import sleep\n",
        "#import time\n",
        "\n",
        "computador = randint(0,5)\n",
        "usuario = int(input('digite um numero:'))\n",
        "print('\\n')\n",
        "print('PROCESSANDO...')\n",
        "sleep(3)\n",
        "print('\\n')\n",
        "if usuario == computador:\n",
        "  print('muito bem acertou parabens!')\n",
        "\n",
        "else:\n",
        "  print(f'perdeu... pensei no numero: {computador}')"
      ]
    },
    {
      "cell_type": "code",
      "source": [
        "#Escreva um programa que leia a velocidade de um carro. Se ele ultrapassar 80Km/h,\n",
        "#mostre uma mensagem dizendo que ele foi multado. A multa vai custar R$7,00 por cada Km acima do limite.\n",
        "velocidade = float(input('digite a velocidade do carro:'))\n",
        "if velocidade > 80:\n",
        "  multa = (velocidade - 80) * 7\n",
        "  print(f'você foi multado , a multa vai custar: {multa:.2f}')\n",
        "else:\n",
        "  print('tenha um bom dia dirija com segurança.')"
      ],
      "metadata": {
        "colab": {
          "base_uri": "https://localhost:8080/"
        },
        "id": "1NiskyJFWThh",
        "outputId": "53be1059-656a-470e-abd0-8db6adb49199"
      },
      "execution_count": 21,
      "outputs": [
        {
          "output_type": "stream",
          "name": "stdout",
          "text": [
            "digite a velocidade do carro:120\n",
            "você foi multado , a multa vai custar: 280.00\n"
          ]
        }
      ]
    },
    {
      "cell_type": "code",
      "source": [
        "num = int(input('digite um numero:'))\n",
        "resultado = num % 2 #qualquer numero sendo impa da 1 e par da 0\n",
        "if resultado == 0:\n",
        "  print(f'o numero: {num} é PAR')\n",
        "else:\n",
        "  print(f'o numero: {num} é IMPA')"
      ],
      "metadata": {
        "colab": {
          "base_uri": "https://localhost:8080/",
          "height": 372
        },
        "id": "SHyiQPmDemPV",
        "outputId": "23004515-f5ba-4978-d81e-f7574b12ec70"
      },
      "execution_count": 34,
      "outputs": [
        {
          "output_type": "error",
          "ename": "KeyboardInterrupt",
          "evalue": "Interrupted by user",
          "traceback": [
            "\u001b[0;31m---------------------------------------------------------------------------\u001b[0m",
            "\u001b[0;31mKeyboardInterrupt\u001b[0m                         Traceback (most recent call last)",
            "\u001b[0;32m<ipython-input-34-2284796e00a9>\u001b[0m in \u001b[0;36m<cell line: 1>\u001b[0;34m()\u001b[0m\n\u001b[0;32m----> 1\u001b[0;31m \u001b[0mnum\u001b[0m \u001b[0;34m=\u001b[0m \u001b[0mint\u001b[0m\u001b[0;34m(\u001b[0m\u001b[0minput\u001b[0m\u001b[0;34m(\u001b[0m\u001b[0;34m'digite um numero:'\u001b[0m\u001b[0;34m)\u001b[0m\u001b[0;34m)\u001b[0m\u001b[0;34m\u001b[0m\u001b[0;34m\u001b[0m\u001b[0m\n\u001b[0m\u001b[1;32m      2\u001b[0m \u001b[0mresultado\u001b[0m \u001b[0;34m=\u001b[0m \u001b[0mnum\u001b[0m \u001b[0;34m%\u001b[0m \u001b[0;36m2\u001b[0m \u001b[0;31m#qualquer numero sendo impa da 1 e par da 0\u001b[0m\u001b[0;34m\u001b[0m\u001b[0;34m\u001b[0m\u001b[0m\n\u001b[1;32m      3\u001b[0m \u001b[0;32mif\u001b[0m \u001b[0mresultado\u001b[0m \u001b[0;34m==\u001b[0m \u001b[0;36m0\u001b[0m\u001b[0;34m:\u001b[0m\u001b[0;34m\u001b[0m\u001b[0;34m\u001b[0m\u001b[0m\n\u001b[1;32m      4\u001b[0m   \u001b[0mprint\u001b[0m\u001b[0;34m(\u001b[0m\u001b[0;34mf'o numero: {num} é PAR'\u001b[0m\u001b[0;34m)\u001b[0m\u001b[0;34m\u001b[0m\u001b[0;34m\u001b[0m\u001b[0m\n\u001b[1;32m      5\u001b[0m \u001b[0;32melse\u001b[0m\u001b[0;34m:\u001b[0m\u001b[0;34m\u001b[0m\u001b[0;34m\u001b[0m\u001b[0m\n",
            "\u001b[0;32m/usr/local/lib/python3.10/dist-packages/ipykernel/kernelbase.py\u001b[0m in \u001b[0;36mraw_input\u001b[0;34m(self, prompt)\u001b[0m\n\u001b[1;32m    849\u001b[0m                 \u001b[0;34m\"raw_input was called, but this frontend does not support input requests.\"\u001b[0m\u001b[0;34m\u001b[0m\u001b[0;34m\u001b[0m\u001b[0m\n\u001b[1;32m    850\u001b[0m             )\n\u001b[0;32m--> 851\u001b[0;31m         return self._input_request(str(prompt),\n\u001b[0m\u001b[1;32m    852\u001b[0m             \u001b[0mself\u001b[0m\u001b[0;34m.\u001b[0m\u001b[0m_parent_ident\u001b[0m\u001b[0;34m,\u001b[0m\u001b[0;34m\u001b[0m\u001b[0;34m\u001b[0m\u001b[0m\n\u001b[1;32m    853\u001b[0m             \u001b[0mself\u001b[0m\u001b[0;34m.\u001b[0m\u001b[0m_parent_header\u001b[0m\u001b[0;34m,\u001b[0m\u001b[0;34m\u001b[0m\u001b[0;34m\u001b[0m\u001b[0m\n",
            "\u001b[0;32m/usr/local/lib/python3.10/dist-packages/ipykernel/kernelbase.py\u001b[0m in \u001b[0;36m_input_request\u001b[0;34m(self, prompt, ident, parent, password)\u001b[0m\n\u001b[1;32m    893\u001b[0m             \u001b[0;32mexcept\u001b[0m \u001b[0mKeyboardInterrupt\u001b[0m\u001b[0;34m:\u001b[0m\u001b[0;34m\u001b[0m\u001b[0;34m\u001b[0m\u001b[0m\n\u001b[1;32m    894\u001b[0m                 \u001b[0;31m# re-raise KeyboardInterrupt, to truncate traceback\u001b[0m\u001b[0;34m\u001b[0m\u001b[0;34m\u001b[0m\u001b[0m\n\u001b[0;32m--> 895\u001b[0;31m                 \u001b[0;32mraise\u001b[0m \u001b[0mKeyboardInterrupt\u001b[0m\u001b[0;34m(\u001b[0m\u001b[0;34m\"Interrupted by user\"\u001b[0m\u001b[0;34m)\u001b[0m \u001b[0;32mfrom\u001b[0m \u001b[0;32mNone\u001b[0m\u001b[0;34m\u001b[0m\u001b[0;34m\u001b[0m\u001b[0m\n\u001b[0m\u001b[1;32m    896\u001b[0m             \u001b[0;32mexcept\u001b[0m \u001b[0mException\u001b[0m \u001b[0;32mas\u001b[0m \u001b[0me\u001b[0m\u001b[0;34m:\u001b[0m\u001b[0;34m\u001b[0m\u001b[0;34m\u001b[0m\u001b[0m\n\u001b[1;32m    897\u001b[0m                 \u001b[0mself\u001b[0m\u001b[0;34m.\u001b[0m\u001b[0mlog\u001b[0m\u001b[0;34m.\u001b[0m\u001b[0mwarning\u001b[0m\u001b[0;34m(\u001b[0m\u001b[0;34m\"Invalid Message:\"\u001b[0m\u001b[0;34m,\u001b[0m \u001b[0mexc_info\u001b[0m\u001b[0;34m=\u001b[0m\u001b[0;32mTrue\u001b[0m\u001b[0;34m)\u001b[0m\u001b[0;34m\u001b[0m\u001b[0;34m\u001b[0m\u001b[0m\n",
            "\u001b[0;31mKeyboardInterrupt\u001b[0m: Interrupted by user"
          ]
        }
      ]
    },
    {
      "cell_type": "code",
      "source": [
        "#Desenvolva um programa que pergunte a distância de uma viagem em Km. Calcule o preço da passagem,\n",
        "#cobrando R$0,50 por Km para viagens de até 200Km e R$0,45 parta viagens mais longas.\n",
        "\n",
        "km = float(input('qual a distancia de uma viagem em km:'))\n",
        "if km <= 200:\n",
        "  total = 0.50 * km\n",
        "  print(f'o preço da viagem vai custa {total}')\n",
        "else:\n",
        "  total2 = 0.45 * km\n",
        "  print(f'o preço da viagem vai custar {total2} ')"
      ],
      "metadata": {
        "colab": {
          "base_uri": "https://localhost:8080/"
        },
        "id": "qGIAn9bXgrpu",
        "outputId": "7f068b29-3938-40a0-8433-edbffe5e7d17"
      },
      "execution_count": 33,
      "outputs": [
        {
          "output_type": "stream",
          "name": "stdout",
          "text": [
            "qual a distancia de uma viagem em km:210\n",
            "o preço da viagem vai custa 94.5\n"
          ]
        }
      ]
    },
    {
      "cell_type": "code",
      "source": [
        "#Faça um programa que leia um ano qualquer e mostre se ele é bissexto.\n",
        "ano = int(input('digite o ano:'))\n",
        "calculo = ano % 4\n",
        "if calculo == 0:\n",
        "  print(f'o ano {ano}, é bisesexto')\n",
        "else:\n",
        "  print(f'o ano {ano}, não é bissexto')"
      ],
      "metadata": {
        "colab": {
          "base_uri": "https://localhost:8080/"
        },
        "id": "eBXgoFqanxJZ",
        "outputId": "ec5df904-7519-4247-8427-16476087eb96"
      },
      "execution_count": 36,
      "outputs": [
        {
          "output_type": "stream",
          "name": "stdout",
          "text": [
            "digite o ano:2024\n",
            "o ano 2024, é bisesexto\n"
          ]
        }
      ]
    },
    {
      "cell_type": "code",
      "source": [
        "#Faça um programa que leia três números e mostre qual é o maior e qual é o menor.\n",
        "a = int(input('digite o primeiro valor:'))\n",
        "b = int(input('digite o segundo valor:'))\n",
        "c = int(input('digite o terceiro valor:'))\n",
        "\n",
        "menor = a\n",
        "if b<a and b<c:\n",
        "  menor = b\n",
        "if c<a and c<b:\n",
        "  menor = c\n",
        "\n",
        "maior = a\n",
        "if b>c and b>a:\n",
        "  maior = b\n",
        "if c>b and c>a:\n",
        "  maior = c\n",
        "\n",
        "print(f'o menor valor é: {menor}, o maior valor é: {maior}')"
      ],
      "metadata": {
        "colab": {
          "base_uri": "https://localhost:8080/"
        },
        "id": "HQjDy0Y9qPL3",
        "outputId": "4b827bed-971f-4e4c-f5af-a985b45de4db"
      },
      "execution_count": 43,
      "outputs": [
        {
          "output_type": "stream",
          "name": "stdout",
          "text": [
            "digite o primeiro valor: 10\n",
            "digite o segundo valor:2\n",
            "digite o terceiro valor:100\n",
            "o menor valor é: 2, o maior valor é: 100\n"
          ]
        }
      ]
    },
    {
      "cell_type": "code",
      "source": [
        "#Escreva um programa que pergunte o salário de um funcionário e calcule o valor do seu aumento.\n",
        "# Para salários superiores a R$1250,00, calcule um aumento de 10%. Para os inferiores ou iguais, o aumento é de 15%.\n",
        "salario = float(input('qual seu salário:'))\n",
        "if salario < 1250:\n",
        "  aumento = (salario * 15 ) / 100 +salario\n",
        "  print(f'com aumento de 15% seu novo salario é {aumento}')\n",
        "else:\n",
        "  aumento1 = (salario * 10) / 100 + salario\n",
        "  print(f'o aumento é de 10% seu novo salario é {aumento1}')"
      ],
      "metadata": {
        "colab": {
          "base_uri": "https://localhost:8080/"
        },
        "id": "7wEnKgspvJRa",
        "outputId": "96d30415-453a-498d-91b4-23b00bf4891d"
      },
      "execution_count": 51,
      "outputs": [
        {
          "output_type": "stream",
          "name": "stdout",
          "text": [
            "qual seu salário:1252\n",
            "o aumento é de 10% seu novo salario é 1377.2\n"
          ]
        }
      ]
    }
  ]
}